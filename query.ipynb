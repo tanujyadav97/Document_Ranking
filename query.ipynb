{
 "cells": [
  {
   "cell_type": "code",
   "execution_count": 1,
   "metadata": {},
   "outputs": [],
   "source": [
    "from nltk.corpus import stopwords\n",
    "from nltk.stem.porter import *\n",
    "from normalize import normalize\n",
    "import pickle\n",
    "import string\n",
    "import operator"
   ]
  },
  {
   "cell_type": "code",
   "execution_count": 2,
   "metadata": {},
   "outputs": [
    {
     "name": "stdout",
     "output_type": "stream",
     "text": [
      "Enter querycomputer science\n"
     ]
    }
   ],
   "source": [
    "stemmer = PorterStemmer()\n",
    "sw=stopwords.words('english')\n",
    "sw.append(' ')\n",
    "sw.append('')\n",
    "\n",
    "def doc_loc_query(query):\n",
    "    loc=pickle.load(open(\"doc_loc.pkl\",\"rb\"))\n",
    "    res={}\n",
    "    for i in range(0,281080):\n",
    "        summ=0\n",
    "        wrds=loc[i].keys()\n",
    "        for j in query:\n",
    "            if j in wrds:\n",
    "                summ+=loc[i][j]\n",
    "            else:\n",
    "                summ+=100000\n",
    "        res[i]=summ\n",
    "    res=normalize(1,res)\n",
    "    return res\n",
    "\n",
    "def fre_query(query):\n",
    "    freq=pickle.load(open(\"freq.pkl\",\"rb\"))\n",
    "    res={}\n",
    "    for i in range(0,281080):\n",
    "        wrds=freq[i].keys()\n",
    "        summ=0\n",
    "        for j in query:\n",
    "            if j in wrds:\n",
    "                summ+=freq[i][j]\n",
    "        res[i]=summ\n",
    "    res=normalize(0,res)\n",
    "    return res\n",
    "\n",
    "def wrd_dis_query(query):\n",
    "    locs=pickle.load(open(\"locs.pkl\",\"rb\"))\n",
    "    res={}\n",
    "    for i in range(0,281080):\n",
    "        dis=0\n",
    "        key=locs[i].keys()\n",
    "        for j in range(0,len(query)):\n",
    "            if query[j] in key:\n",
    "                for k in range(j+1,len(query)):\n",
    "                    if query[k] in key:\n",
    "                        dis+=abs(locs[i][query[j]]-locs[i][query[k]])\n",
    "                    else:\n",
    "                        dis+=10000\n",
    "            else:\n",
    "                dis+=10000*(len(query)-j-1)\n",
    "        res[i]=dis\n",
    "    res=normalize(1,res)\n",
    "    return res\n",
    "\n",
    "query=input(\"Enter query: \")\n",
    "query=query.translate(str.maketrans(string.punctuation, ' '*len(string.punctuation)))\n",
    "query=[stemmer.stem(wrd) for wrd in query.split(' ') if wrd not in sw]\n",
    "\n",
    "l1=doc_loc_query(query)\n",
    "l2=fre_query(query)\n",
    "l3=wrd_dis_query(query)\n",
    "\n",
    "l={}\n",
    "for i in range(0,281080):\n",
    "    l[i]=l1[i]+l2[i]+l3[i]"
   ]
  },
  {
   "cell_type": "code",
   "execution_count": 3,
   "metadata": {},
   "outputs": [
    {
     "name": "stdout",
     "output_type": "stream",
     "text": [
      "The top 10 documents are:\n",
      "248223.txt\n",
      "110304.txt\n",
      "80936.txt\n",
      "55133.txt\n",
      "103969.txt\n",
      "33829.txt\n",
      "200645.txt\n",
      "198649.txt\n",
      "76833.txt\n",
      "273539.txt\n"
     ]
    }
   ],
   "source": [
    "sorted_scores = list(reversed(sorted(l.items(), key=operator.itemgetter(1))))\n",
    "print(\"The top 10 documents are:\")\n",
    "for i in range(10):\n",
    "    print(str(sorted_scores[i][0])+\".txt\")"
   ]
  },
  {
   "cell_type": "code",
   "execution_count": null,
   "metadata": {},
   "outputs": [],
   "source": []
  }
 ],
 "metadata": {
  "kernelspec": {
   "display_name": "Python 3",
   "language": "python",
   "name": "python3"
  },
  "language_info": {
   "codemirror_mode": {
    "name": "ipython",
    "version": 3
   },
   "file_extension": ".py",
   "mimetype": "text/x-python",
   "name": "python",
   "nbconvert_exporter": "python",
   "pygments_lexer": "ipython3",
   "version": "3.5.4"
  }
 },
 "nbformat": 4,
 "nbformat_minor": 1
}
