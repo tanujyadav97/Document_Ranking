{
 "cells": [
  {
   "cell_type": "code",
   "execution_count": 1,
   "metadata": {},
   "outputs": [],
   "source": [
    "from normalize import normalize\n",
    "import pickle"
   ]
  },
  {
   "cell_type": "code",
   "execution_count": 2,
   "metadata": {},
   "outputs": [],
   "source": [
    "data=pickle.load(open(\"bow.pkl\", \"rb\"))"
   ]
  },
  {
   "cell_type": "code",
   "execution_count": 3,
   "metadata": {},
   "outputs": [],
   "source": [
    "locs={}\n",
    "for i in range(0,281080):\n",
    "    pos={}\n",
    "    cou={}\n",
    "    c=0\n",
    "    for j in data[i]:\n",
    "        c+=1\n",
    "        if j not in pos.keys():\n",
    "            pos[j]=c\n",
    "            cou[j]=1\n",
    "        else:\n",
    "            pos[j]=(pos[j]*cou[j]+c)/(cou[j]+1)\n",
    "            cou[j]=cou[j]+1\n",
    "    locs[i]=pos"
   ]
  },
  {
   "cell_type": "code",
   "execution_count": 4,
   "metadata": {},
   "outputs": [],
   "source": [
    "def wrd_dis_query(query):\n",
    "    res={}\n",
    "    for i in range(0,281080):\n",
    "        dis=0\n",
    "        key=locs[i].keys()\n",
    "        for j in range(0,len(query)):\n",
    "            if query[j] in key:\n",
    "                for k in range(j+1,len(query)):\n",
    "                    if query[k] in key:\n",
    "                        dis+=abs(locs[i][query[j]]-locs[i][query[k]])\n",
    "                    else:\n",
    "                        dis+=10000\n",
    "            else:\n",
    "                dis+=10000*(len(query)-j-1)\n",
    "        res[i]=dis\n",
    "    res=normalize(1,res)\n",
    "    return res"
   ]
  }
 ],
 "metadata": {
  "kernelspec": {
   "display_name": "Python 3",
   "language": "python",
   "name": "python3"
  },
  "language_info": {
   "codemirror_mode": {
    "name": "ipython",
    "version": 3
   },
   "file_extension": ".py",
   "mimetype": "text/x-python",
   "name": "python",
   "nbconvert_exporter": "python",
   "pygments_lexer": "ipython3",
   "version": "3.5.4"
  }
 },
 "nbformat": 4,
 "nbformat_minor": 1
}
